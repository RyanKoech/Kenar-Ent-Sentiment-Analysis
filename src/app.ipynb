{
 "cells": [
  {
   "cell_type": "markdown",
   "metadata": {},
   "source": [
    "# Kenar Entertainment Sentiment Analysis"
   ]
  },
  {
   "cell_type": "markdown",
   "metadata": {},
   "source": [
    "## Set up environment"
   ]
  },
  {
   "cell_type": "code",
   "execution_count": null,
   "metadata": {},
   "outputs": [
    {
     "ename": "",
     "evalue": "",
     "output_type": "error",
     "traceback": [
      "\u001b[1;31mThe kernel failed to start due to the missing module 'prompt_toolkit.formatted_text'. Consider installing this module.\n",
      "\u001b[1;31mClick <a href='https://aka.ms/kernelFailuresMissingModule'>here</a> for more info."
     ]
    }
   ],
   "source": [
    "import os\n",
    "from dotenv import find_dotenv, load_dotenv\n",
    "import tweepy\n",
    "import pandas as pd\n",
    "import re\n",
    "from nltk.sentiment.vader import SentimentIntensityAnalyzer\n",
    "from textblob import TextBlob\n",
    "import nltk\n",
    "import numpy as np\n",
    "from PIL import Image\n",
    "from wordcloud import WordCloud, STOPWORDS\n",
    "import matplotlib.pyplot as plt\n",
    "\n",
    "\n",
    "from util import *\n",
    "\n",
    "nltk.download('vader_lexicon')\n",
    "dotenv_path = find_dotenv()\n",
    "load_dotenv(dotenv_path)\n",
    "\n",
    "CLIENT_ID = os.getenv(\"CLIENT_ID\")\n",
    "CLIENT_SECRET = os.getenv(\"CLIENT_SECRET\")\n",
    "API_KEY = os.getenv(\"API_KEY\")\n",
    "API_KEY_SECRET = os.getenv(\"API_KEY_SECRET\")\n",
    "BEARER_TOKEN = os.getenv(\"BEARER_TOKEN\")\n",
    "ACCESS_TOKEN = os.getenv(\"ACCESS_TOKEN\")\n",
    "ACCESS_TOKEN_SECRET = os.getenv(\"ACCESS_TOKEN_SECRET\")"
   ]
  },
  {
   "cell_type": "markdown",
   "metadata": {},
   "source": [
    "## Authentication\n",
    "\n",
    "### API v1.1"
   ]
  },
  {
   "cell_type": "code",
   "execution_count": 2,
   "metadata": {},
   "outputs": [],
   "source": [
    "# auth1 = tweepy.OAuth1UserHandler(API_KEY, API_KEY_SECRET, ACCESS_TOKEN, ACCESS_TOKEN_SECRET)\n",
    "# api1 = tweepy.API(auth1)\n",
    "\n",
    "# tweets = api1.home_timeline(count = 5)\n",
    "# for tweet in tweets:\n",
    "#     print(tweet.text, '\\n')"
   ]
  },
  {
   "cell_type": "markdown",
   "metadata": {},
   "source": [
    "### API v2.0"
   ]
  },
  {
   "cell_type": "code",
   "execution_count": 3,
   "metadata": {},
   "outputs": [],
   "source": [
    "api2 = tweepy.Client(bearer_token=BEARER_TOKEN)\n",
    "\n",
    "query = '#chelsea -is:retweet lang:en'\n",
    "\n",
    "# tweets = api2.search_recent_tweets(query=query, tweet_fields = ['context_annotations', 'created_at'], max_results=10)\n",
    "# for tweet in tweets.data:\n",
    "#     print('\\n___Tweet Text___\\n' , tweet.text)\n",
    "\n",
    "paginator = tweepy.Paginator(\n",
    "    api2.search_recent_tweets,\n",
    "    query = query,\n",
    "    max_results=100,\n",
    "    limit=10\n",
    ")\n",
    "\n",
    "tweet_list = []\n",
    "\n",
    "for tweet in paginator.flatten():\n",
    "    tweet_list.append(tweet)"
   ]
  },
  {
   "cell_type": "code",
   "execution_count": 4,
   "metadata": {},
   "outputs": [
    {
     "data": {
      "text/html": [
       "<div>\n",
       "<style scoped>\n",
       "    .dataframe tbody tr th:only-of-type {\n",
       "        vertical-align: middle;\n",
       "    }\n",
       "\n",
       "    .dataframe tbody tr th {\n",
       "        vertical-align: top;\n",
       "    }\n",
       "\n",
       "    .dataframe thead th {\n",
       "        text-align: right;\n",
       "    }\n",
       "</style>\n",
       "<table border=\"1\" class=\"dataframe\">\n",
       "  <thead>\n",
       "    <tr style=\"text-align: right;\">\n",
       "      <th></th>\n",
       "      <th>text</th>\n",
       "    </tr>\n",
       "  </thead>\n",
       "  <tbody>\n",
       "    <tr>\n",
       "      <th>0</th>\n",
       "      <td>AVIATION INDUSTRIES\\n\\nhttps://t.co/zUqpQU9LhE...</td>\n",
       "    </tr>\n",
       "    <tr>\n",
       "      <th>1</th>\n",
       "      <td>CHELSEA TO REIGNITE THEIR INTEREST IN BARCELON...</td>\n",
       "    </tr>\n",
       "    <tr>\n",
       "      <th>2</th>\n",
       "      <td>Property of the Week: Two Bedroom Apartment, L...</td>\n",
       "    </tr>\n",
       "    <tr>\n",
       "      <th>3</th>\n",
       "      <td>ENDRICK TAKES ENGLISH LESSONS, MOUNT TURNS DOW...</td>\n",
       "    </tr>\n",
       "    <tr>\n",
       "      <th>4</th>\n",
       "      <td>🙌🤩   #Chelseafollowtrain   🚂  ❗️FOLLOW EVERYON...</td>\n",
       "    </tr>\n",
       "  </tbody>\n",
       "</table>\n",
       "</div>"
      ],
      "text/plain": [
       "                                                text\n",
       "0  AVIATION INDUSTRIES\\n\\nhttps://t.co/zUqpQU9LhE...\n",
       "1  CHELSEA TO REIGNITE THEIR INTEREST IN BARCELON...\n",
       "2  Property of the Week: Two Bedroom Apartment, L...\n",
       "3  ENDRICK TAKES ENGLISH LESSONS, MOUNT TURNS DOW...\n",
       "4  🙌🤩   #Chelseafollowtrain   🚂  ❗️FOLLOW EVERYON..."
      ]
     },
     "execution_count": 4,
     "metadata": {},
     "output_type": "execute_result"
    }
   ],
   "source": [
    "tweet_list_df = pd.DataFrame(tweet_list)\n",
    "tweet_list_df = pd.DataFrame(tweet_list_df['text'])\n",
    "tweet_list_df.head(5)"
   ]
  },
  {
   "cell_type": "markdown",
   "metadata": {},
   "source": [
    "## Data Preprocessing"
   ]
  },
  {
   "cell_type": "code",
   "execution_count": 5,
   "metadata": {},
   "outputs": [],
   "source": [
    "cleaned_tweets = []\n",
    "\n",
    "for tweet in tweet_list_df['text']:\n",
    "  cleaned_tweet = preprocess_tweet(tweet)\n",
    "  cleaned_tweets.append(cleaned_tweet)"
   ]
  },
  {
   "cell_type": "code",
   "execution_count": 6,
   "metadata": {},
   "outputs": [
    {
     "data": {
      "text/html": [
       "<div>\n",
       "<style scoped>\n",
       "    .dataframe tbody tr th:only-of-type {\n",
       "        vertical-align: middle;\n",
       "    }\n",
       "\n",
       "    .dataframe tbody tr th {\n",
       "        vertical-align: top;\n",
       "    }\n",
       "\n",
       "    .dataframe thead th {\n",
       "        text-align: right;\n",
       "    }\n",
       "</style>\n",
       "<table border=\"1\" class=\"dataframe\">\n",
       "  <thead>\n",
       "    <tr style=\"text-align: right;\">\n",
       "      <th></th>\n",
       "      <th>text</th>\n",
       "      <th>cleaned</th>\n",
       "    </tr>\n",
       "  </thead>\n",
       "  <tbody>\n",
       "    <tr>\n",
       "      <th>0</th>\n",
       "      <td>AVIATION INDUSTRIES\\n\\nhttps://t.co/zUqpQU9LhE...</td>\n",
       "      <td>aviation industries aviation erp software avia...</td>\n",
       "    </tr>\n",
       "    <tr>\n",
       "      <th>1</th>\n",
       "      <td>CHELSEA TO REIGNITE THEIR INTEREST IN BARCELON...</td>\n",
       "      <td>chelsea to reignite their interest in barcelon...</td>\n",
       "    </tr>\n",
       "    <tr>\n",
       "      <th>2</th>\n",
       "      <td>Property of the Week: Two Bedroom Apartment, L...</td>\n",
       "      <td>property of the week two bedroom apartment lon...</td>\n",
       "    </tr>\n",
       "    <tr>\n",
       "      <th>3</th>\n",
       "      <td>ENDRICK TAKES ENGLISH LESSONS, MOUNT TURNS DOW...</td>\n",
       "      <td>endrick takes english lessons mount turns down...</td>\n",
       "    </tr>\n",
       "    <tr>\n",
       "      <th>4</th>\n",
       "      <td>🙌🤩   #Chelseafollowtrain   🚂  ❗️FOLLOW EVERYON...</td>\n",
       "      <td>chelseafollowtrain follow everyone that comme...</td>\n",
       "    </tr>\n",
       "  </tbody>\n",
       "</table>\n",
       "</div>"
      ],
      "text/plain": [
       "                                                text  \\\n",
       "0  AVIATION INDUSTRIES\\n\\nhttps://t.co/zUqpQU9LhE...   \n",
       "1  CHELSEA TO REIGNITE THEIR INTEREST IN BARCELON...   \n",
       "2  Property of the Week: Two Bedroom Apartment, L...   \n",
       "3  ENDRICK TAKES ENGLISH LESSONS, MOUNT TURNS DOW...   \n",
       "4  🙌🤩   #Chelseafollowtrain   🚂  ❗️FOLLOW EVERYON...   \n",
       "\n",
       "                                             cleaned  \n",
       "0  aviation industries aviation erp software avia...  \n",
       "1  chelsea to reignite their interest in barcelon...  \n",
       "2  property of the week two bedroom apartment lon...  \n",
       "3  endrick takes english lessons mount turns down...  \n",
       "4   chelseafollowtrain follow everyone that comme...  "
      ]
     },
     "execution_count": 6,
     "metadata": {},
     "output_type": "execute_result"
    }
   ],
   "source": [
    "tweet_list_df['cleaned'] = pd.DataFrame(cleaned_tweets)\n",
    "tweet_list_df.head(5)"
   ]
  },
  {
   "cell_type": "markdown",
   "metadata": {},
   "source": [
    "## Generate Sentiment Labels"
   ]
  },
  {
   "cell_type": "code",
   "execution_count": 7,
   "metadata": {},
   "outputs": [
    {
     "name": "stderr",
     "output_type": "stream",
     "text": [
      "C:\\Users\\User\\AppData\\Local\\Temp\\ipykernel_5376\\1897720740.py:4: FutureWarning: iteritems is deprecated and will be removed in a future version. Use .items instead.\n",
      "  for index, row in tweet_list_df['cleaned'].iteritems():\n"
     ]
    },
    {
     "data": {
      "text/html": [
       "<div>\n",
       "<style scoped>\n",
       "    .dataframe tbody tr th:only-of-type {\n",
       "        vertical-align: middle;\n",
       "    }\n",
       "\n",
       "    .dataframe tbody tr th {\n",
       "        vertical-align: top;\n",
       "    }\n",
       "\n",
       "    .dataframe thead th {\n",
       "        text-align: right;\n",
       "    }\n",
       "</style>\n",
       "<table border=\"1\" class=\"dataframe\">\n",
       "  <thead>\n",
       "    <tr style=\"text-align: right;\">\n",
       "      <th></th>\n",
       "      <th>text</th>\n",
       "      <th>cleaned</th>\n",
       "      <th>polarity</th>\n",
       "      <th>subjectivity</th>\n",
       "      <th>sentiment</th>\n",
       "      <th>neg</th>\n",
       "      <th>neu</th>\n",
       "      <th>pos</th>\n",
       "      <th>compound</th>\n",
       "    </tr>\n",
       "  </thead>\n",
       "  <tbody>\n",
       "    <tr>\n",
       "      <th>0</th>\n",
       "      <td>AVIATION INDUSTRIES\\n\\nhttps://t.co/zUqpQU9LhE...</td>\n",
       "      <td>aviation industries aviation erp software avia...</td>\n",
       "      <td>0.000000</td>\n",
       "      <td>0.000000</td>\n",
       "      <td>neutral</td>\n",
       "      <td>0.0</td>\n",
       "      <td>1.000</td>\n",
       "      <td>0.000</td>\n",
       "      <td>0.0000</td>\n",
       "    </tr>\n",
       "    <tr>\n",
       "      <th>1</th>\n",
       "      <td>CHELSEA TO REIGNITE THEIR INTEREST IN BARCELON...</td>\n",
       "      <td>chelsea to reignite their interest in barcelon...</td>\n",
       "      <td>0.000000</td>\n",
       "      <td>0.000000</td>\n",
       "      <td>positive</td>\n",
       "      <td>0.0</td>\n",
       "      <td>0.833</td>\n",
       "      <td>0.167</td>\n",
       "      <td>0.7184</td>\n",
       "    </tr>\n",
       "    <tr>\n",
       "      <th>2</th>\n",
       "      <td>Property of the Week: Two Bedroom Apartment, L...</td>\n",
       "      <td>property of the week two bedroom apartment lon...</td>\n",
       "      <td>0.375000</td>\n",
       "      <td>0.516667</td>\n",
       "      <td>positive</td>\n",
       "      <td>0.0</td>\n",
       "      <td>0.830</td>\n",
       "      <td>0.170</td>\n",
       "      <td>0.7783</td>\n",
       "    </tr>\n",
       "    <tr>\n",
       "      <th>3</th>\n",
       "      <td>ENDRICK TAKES ENGLISH LESSONS, MOUNT TURNS DOW...</td>\n",
       "      <td>endrick takes english lessons mount turns down...</td>\n",
       "      <td>-0.077778</td>\n",
       "      <td>0.144444</td>\n",
       "      <td>neutral</td>\n",
       "      <td>0.0</td>\n",
       "      <td>1.000</td>\n",
       "      <td>0.000</td>\n",
       "      <td>0.0000</td>\n",
       "    </tr>\n",
       "    <tr>\n",
       "      <th>4</th>\n",
       "      <td>🙌🤩   #Chelseafollowtrain   🚂  ❗️FOLLOW EVERYON...</td>\n",
       "      <td>chelseafollowtrain follow everyone that comme...</td>\n",
       "      <td>0.000000</td>\n",
       "      <td>0.000000</td>\n",
       "      <td>neutral</td>\n",
       "      <td>0.0</td>\n",
       "      <td>1.000</td>\n",
       "      <td>0.000</td>\n",
       "      <td>0.0000</td>\n",
       "    </tr>\n",
       "  </tbody>\n",
       "</table>\n",
       "</div>"
      ],
      "text/plain": [
       "                                                text  \\\n",
       "0  AVIATION INDUSTRIES\\n\\nhttps://t.co/zUqpQU9LhE...   \n",
       "1  CHELSEA TO REIGNITE THEIR INTEREST IN BARCELON...   \n",
       "2  Property of the Week: Two Bedroom Apartment, L...   \n",
       "3  ENDRICK TAKES ENGLISH LESSONS, MOUNT TURNS DOW...   \n",
       "4  🙌🤩   #Chelseafollowtrain   🚂  ❗️FOLLOW EVERYON...   \n",
       "\n",
       "                                             cleaned  polarity  subjectivity  \\\n",
       "0  aviation industries aviation erp software avia...  0.000000      0.000000   \n",
       "1  chelsea to reignite their interest in barcelon...  0.000000      0.000000   \n",
       "2  property of the week two bedroom apartment lon...  0.375000      0.516667   \n",
       "3  endrick takes english lessons mount turns down... -0.077778      0.144444   \n",
       "4   chelseafollowtrain follow everyone that comme...  0.000000      0.000000   \n",
       "\n",
       "  sentiment  neg    neu    pos  compound  \n",
       "0   neutral  0.0  1.000  0.000    0.0000  \n",
       "1  positive  0.0  0.833  0.167    0.7184  \n",
       "2  positive  0.0  0.830  0.170    0.7783  \n",
       "3   neutral  0.0  1.000  0.000    0.0000  \n",
       "4   neutral  0.0  1.000  0.000    0.0000  "
      ]
     },
     "execution_count": 7,
     "metadata": {},
     "output_type": "execute_result"
    }
   ],
   "source": [
    "#Calculating Negative, Positive, Neutral and Compound values\n",
    "\n",
    "tweet_list_df[['polarity', 'subjectivity']] = tweet_list_df['cleaned'].apply(lambda Text: pd.Series(TextBlob(Text).sentiment))\n",
    "for index, row in tweet_list_df['cleaned'].iteritems():\n",
    "    score = SentimentIntensityAnalyzer().polarity_scores(row)\n",
    "    neg = score['neg']\n",
    "    neu = score['neu']\n",
    "    pos = score['pos']\n",
    "    comp = score['compound']\n",
    "    if comp <= -0.05:\n",
    "        tweet_list_df.loc[index, 'sentiment'] = \"negative\"\n",
    "    elif comp >= 0.05:\n",
    "        tweet_list_df.loc[index, 'sentiment'] = \"positive\"\n",
    "    else:\n",
    "        tweet_list_df.loc[index, 'sentiment'] = \"neutral\"\n",
    "    tweet_list_df.loc[index, 'neg'] = neg\n",
    "    tweet_list_df.loc[index, 'neu'] = neu\n",
    "    tweet_list_df.loc[index, 'pos'] = pos\n",
    "    tweet_list_df.loc[index, 'compound'] = comp\n",
    "\n",
    "tweet_list_df.head(5)"
   ]
  },
  {
   "cell_type": "markdown",
   "metadata": {},
   "source": [
    "## Sentiment Visualization"
   ]
  },
  {
   "cell_type": "code",
   "execution_count": 8,
   "metadata": {},
   "outputs": [],
   "source": [
    "#Creating new data frames for all sentiments (positive, negative and neutral)\n",
    "\n",
    "tweet_list_df_negative = tweet_list_df[tweet_list_df[\"sentiment\"]==\"negative\"]\n",
    "tweet_list_df_positive = tweet_list_df[tweet_list_df[\"sentiment\"]==\"positive\"]\n",
    "tweet_list_df_neutral = tweet_list_df[tweet_list_df[\"sentiment\"]==\"neutral\"]"
   ]
  },
  {
   "cell_type": "markdown",
   "metadata": {},
   "source": [
    "### Donut Chart"
   ]
  },
  {
   "cell_type": "code",
   "execution_count": 9,
   "metadata": {},
   "outputs": [],
   "source": [
    "#Function for count_values_in single columns\n",
    "\n",
    "def count_values_in_column(data,feature):\n",
    "    total=data.loc[:,feature].value_counts(dropna=False)\n",
    "    percentage=round(data.loc[:,feature].value_counts(dropna=False,normalize=True)*100,2)\n",
    "    return pd.concat([total,percentage],axis=1,keys=['Total','Percentage'])"
   ]
  },
  {
   "cell_type": "code",
   "execution_count": 10,
   "metadata": {},
   "outputs": [
    {
     "data": {
      "text/html": [
       "<div>\n",
       "<style scoped>\n",
       "    .dataframe tbody tr th:only-of-type {\n",
       "        vertical-align: middle;\n",
       "    }\n",
       "\n",
       "    .dataframe tbody tr th {\n",
       "        vertical-align: top;\n",
       "    }\n",
       "\n",
       "    .dataframe thead th {\n",
       "        text-align: right;\n",
       "    }\n",
       "</style>\n",
       "<table border=\"1\" class=\"dataframe\">\n",
       "  <thead>\n",
       "    <tr style=\"text-align: right;\">\n",
       "      <th></th>\n",
       "      <th>Total</th>\n",
       "      <th>Percentage</th>\n",
       "    </tr>\n",
       "  </thead>\n",
       "  <tbody>\n",
       "    <tr>\n",
       "      <th>positive</th>\n",
       "      <td>599</td>\n",
       "      <td>59.9</td>\n",
       "    </tr>\n",
       "    <tr>\n",
       "      <th>neutral</th>\n",
       "      <td>251</td>\n",
       "      <td>25.1</td>\n",
       "    </tr>\n",
       "    <tr>\n",
       "      <th>negative</th>\n",
       "      <td>150</td>\n",
       "      <td>15.0</td>\n",
       "    </tr>\n",
       "  </tbody>\n",
       "</table>\n",
       "</div>"
      ],
      "text/plain": [
       "          Total  Percentage\n",
       "positive    599        59.9\n",
       "neutral     251        25.1\n",
       "negative    150        15.0"
      ]
     },
     "execution_count": 10,
     "metadata": {},
     "output_type": "execute_result"
    }
   ],
   "source": [
    "#Count_values for sentiment\n",
    "count_values_in_column(tweet_list_df,\"sentiment\")"
   ]
  },
  {
   "cell_type": "code",
   "execution_count": 11,
   "metadata": {},
   "outputs": [
    {
     "data": {
      "image/png": "[encoded data removed]",
      "text/plain": [
       "<Figure size 640x480 with 1 Axes>"
      ]
     },
     "metadata": {},
     "output_type": "display_data"
    }
   ],
   "source": [
    "# create data for Pie Chart\n",
    "pichart = count_values_in_column(tweet_list_df,\"sentiment\")\n",
    "# names= pc.index\n",
    "# size=pc[\"Percentage\"]\n",
    "\n",
    "names= pichart.index\n",
    "size=pichart[\"Percentage\"]\n",
    "\n",
    "# Create a circle for the center of the plot\n",
    "my_circle=plt.Circle( (0,0), 0.7, color='white')\n",
    "plt.pie(size, labels=names, colors=['green','blue','red'])\n",
    "p=plt.gcf()\n",
    "p.gca().add_artist(my_circle)\n",
    "plt.show()"
   ]
  },
  {
   "cell_type": "markdown",
   "metadata": {},
   "source": [
    "### World Cloud"
   ]
  },
  {
   "cell_type": "code",
   "execution_count": 1,
   "metadata": {},
   "outputs": [
    {
     "ename": "ModuleNotFoundError",
     "evalue": "No module named 'google.colab'",
     "output_type": "error",
     "traceback": [
      "\u001b[1;31m---------------------------------------------------------------------------\u001b[0m",
      "\u001b[1;31mModuleNotFoundError\u001b[0m                       Traceback (most recent call last)",
      "Cell \u001b[1;32mIn [1], line 1\u001b[0m\n\u001b[1;32m----> 1\u001b[0m \u001b[39mfrom\u001b[39;00m \u001b[39mgoogle\u001b[39;00m\u001b[39m.\u001b[39;00m\u001b[39mcolab\u001b[39;00m \u001b[39mimport\u001b[39;00m drive\n\u001b[0;32m      2\u001b[0m drive\u001b[39m.\u001b[39mmount(\u001b[39m'\u001b[39m\u001b[39m/content/drive\u001b[39m\u001b[39m'\u001b[39m)\n\u001b[0;32m      4\u001b[0m get_ipython()\u001b[39m.\u001b[39mrun_line_magic(\u001b[39m'\u001b[39m\u001b[39mcd\u001b[39m\u001b[39m'\u001b[39m, \u001b[39m'\u001b[39m\u001b[39m/content/drive/My Drive/Coding/Machine Learning/Kenar Ent Sentiment Analysis\u001b[39m\u001b[39m'\u001b[39m)\n",
      "\u001b[1;31mModuleNotFoundError\u001b[0m: No module named 'google.colab'"
     ]
    }
   ],
   "source": [
    "from google.colab import drive\n",
    "drive.mount('/content/drive')\n",
    "\n",
    "%cd /content/drive/My Drive/Coding/Machine Learning/Kenar Ent Sentiment Analysis\n",
    "!ls"
   ]
  }
 ],
 "metadata": {
  "kernelspec": {
   "display_name": "Python 3.11.0 64-bit",
   "language": "python",
   "name": "python3"
  },
  "language_info": {
   "codemirror_mode": {
    "name": "ipython",
    "version": 3
   },
   "file_extension": ".py",
   "mimetype": "text/x-python",
   "name": "python",
   "nbconvert_exporter": "python",
   "pygments_lexer": "ipython3",
   "version": "3.11.0"
  },
  "orig_nbformat": 4,
  "vscode": {
   "interpreter": {
    "hash": "ebfc0a8d552866b0d59eba665220a57de3bc06f3ac643b8bef38dd8f66781fdd"
   }
  }
 },
 "nbformat": 4,
 "nbformat_minor": 2
}
